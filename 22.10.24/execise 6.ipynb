{
 "cells": [
  {
   "cell_type": "markdown",
   "metadata": {},
   "source": [
    "# Exercise 6"
   ]
  },
  {
   "cell_type": "code",
   "execution_count": 1,
   "metadata": {},
   "outputs": [],
   "source": [
    "import numpy as np\n",
    "import matplotlib.pyplot as plt\n",
    "\n",
    "\n",
    "def step():\n",
    "    import random\n",
    "    return 1. if random.random() > .5 else -1.\n",
    "\n",
    "\n",
    "def walk(n):\n",
    "    x = np.zeros(n)\n",
    "    dx = 1. / n\n",
    "    for i in range(n - 1):\n",
    "        x_new = x[i] + dx * step()\n",
    "        if x_new > 5e-3:\n",
    "            x[i + 1] = 0.\n",
    "        else:\n",
    "            x[i + 1] = x_new\n",
    "    return x\n",
    "\n",
    "\n",
    "n = 100000\n",
    "x = walk(n)"
   ]
  },
  {
   "cell_type": "code",
   "execution_count": 2,
   "metadata": {},
   "outputs": [
    {
     "name": "stdout",
     "output_type": "stream",
     "text": [
      "Collecting line_profiler\n",
      "  Downloading line_profiler-4.1.3-cp311-cp311-win_amd64.whl.metadata (35 kB)\n",
      "Downloading line_profiler-4.1.3-cp311-cp311-win_amd64.whl (126 kB)\n",
      "Installing collected packages: line_profiler\n",
      "Successfully installed line_profiler-4.1.3\n"
     ]
    }
   ],
   "source": [
    "!pip install line_profiler"
   ]
  },
  {
   "cell_type": "code",
   "execution_count": 3,
   "metadata": {},
   "outputs": [],
   "source": [
    "%load_ext line_profiler"
   ]
  },
  {
   "cell_type": "code",
   "execution_count": 4,
   "metadata": {},
   "outputs": [
    {
     "name": "stdout",
     "output_type": "stream",
     "text": [
      "Timer unit: 1e-07 s"
     ]
    }
   ],
   "source": [
    "%lprun"
   ]
  },
  {
   "cell_type": "code",
   "execution_count": 5,
   "metadata": {},
   "outputs": [
    {
     "name": "stdout",
     "output_type": "stream",
     "text": [
      "Timer unit: 1e-07 s\n",
      "\n",
      "Total time: 0.038197 s\n",
      "\n",
      "Could not find file C:\\Users\\Виктория\\AppData\\Local\\Temp\\ipykernel_29504\\20568004.py\n",
      "Are you sure you are running this program from the same directory\n",
      "that you ran the profiler from?\n",
      "Continuing without the function's contents.\n",
      "\n",
      "Line #      Hits         Time  Per Hit   % Time  Line Contents\n",
      "==============================================================\n",
      "    10                                           \n",
      "    11         1       1516.0   1516.0      0.4  \n",
      "    12         1         32.0     32.0      0.0  \n",
      "    13     10000      41608.0      4.2     10.9  \n",
      "    14      9999     232276.0     23.2     60.8  \n",
      "    15      9999      44024.0      4.4     11.5  \n",
      "    16         2         39.0     19.5      0.0  \n",
      "    17                                           \n",
      "    18      9997      62471.0      6.2     16.4  \n",
      "    19         1          4.0      4.0      0.0"
     ]
    }
   ],
   "source": [
    "%lprun -f walk walk(10000)"
   ]
  },
  {
   "cell_type": "code",
   "execution_count": 6,
   "metadata": {},
   "outputs": [
    {
     "name": "stdout",
     "output_type": "stream",
     "text": [
      "Timer unit: 1e-07 s\n",
      "\n",
      "Total time: 0.012195 s\n",
      "\n",
      "Could not find file C:\\Users\\Виктория\\AppData\\Local\\Temp\\ipykernel_29504\\20568004.py\n",
      "Are you sure you are running this program from the same directory\n",
      "that you ran the profiler from?\n",
      "Continuing without the function's contents.\n",
      "\n",
      "Line #      Hits         Time  Per Hit   % Time  Line Contents\n",
      "==============================================================\n",
      "     5                                           \n",
      "     6      9999      53082.0      5.3     43.5  \n",
      "     7      9999      68868.0      6.9     56.5"
     ]
    }
   ],
   "source": [
    "%lprun -f step walk(10000)"
   ]
  },
  {
   "cell_type": "markdown",
   "metadata": {},
   "source": [
    "При каждом вызове функции импортируется модуль random, это является ошибкой, которая замедляет работу программы в два раза "
   ]
  }
 ],
 "metadata": {
  "kernelspec": {
   "display_name": "Python 3",
   "language": "python",
   "name": "python3"
  },
  "language_info": {
   "codemirror_mode": {
    "name": "ipython",
    "version": 3
   },
   "file_extension": ".py",
   "mimetype": "text/x-python",
   "name": "python",
   "nbconvert_exporter": "python",
   "pygments_lexer": "ipython3",
   "version": "3.11.7"
  }
 },
 "nbformat": 4,
 "nbformat_minor": 2
}
