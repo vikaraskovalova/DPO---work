{
 "cells": [
  {
   "cell_type": "markdown",
   "metadata": {},
   "source": [
    "# Практика №2\n",
    "\n",
    "1. Сгенерировать, используя модуль псевдослучайных чисел `random`, или ввести с клавиатуры список целых чисел. Вывести в консоль, затем перевернуть его и снова вывести в консоль.\n",
    "\n",
    "2. Сгенерировать, используя модуль псевдослучайных чисел `random`, или ввести с клавиатуры два списка целых чисел. Вывести их в консоль. Создать новый пустой список. Добавить в него все четные (по индексу) элементы первого списка и все нечетные (по индексу) элементы второго списка. Вывести третий список в консоль.\n",
    "\n",
    "3. Сгенерировать, используя модуль псевдослучайных чисел `random`, или ввести с клавиатуры список произвольных элементов (целые числа, числа с плавающей точкой, строки). Вывести в консоль. Убрать из него все дубликаты через приведение типов. Вывести в консоль.\n",
    "\n",
    "4. Сгенерировать, используя модуль псевдослучайных чисел `random`, или ввести с клавиатуры словарь, где ключом является строка, значением — целое число или число с плавающей точкой. Вывести в консоль. Для всех уникальных значений создать кортеж, где первым элементом будет значение, вторым — список связанных с ним ключей. Собрать эти кортежи в список, вывести его в консоль.\n",
    "\n",
    "5. Сгенерировать, используя модуль псевдослучайных чисел `random`, или ввести с клавиатуры два словаря, где ключом является строка, значением — целое число или число с плавающей точкой. Вывести в консоль. Найти пересечения множеств значений словарей. Создать новый словарь, содержащий только те пары ключ-значение, значения из которых входит в пересечение. Вывести в консоль.\n",
    "\n",
    "[Ссылка на документацию функции `random`](https://docs.python.org/3/library/random.html)\n",
    "\n",
    "[Built-in Types](https://docs.python.org/3/library/stdtypes.html?highlight=tuple#tuple)"
   ]
  },
  {
   "cell_type": "markdown",
   "metadata": {},
   "source": [
    "## Задание 1"
   ]
  },
  {
   "cell_type": "code",
   "execution_count": 2,
   "metadata": {},
   "outputs": [
    {
     "name": "stdout",
     "output_type": "stream",
     "text": [
      "Изначальный список:\n",
      "[2, 7, 1, 6, 1, 8, 4, 0, 7, 7]\n",
      "Перевернутый список:\n",
      "[7, 7, 0, 4, 8, 1, 6, 1, 7, 2]\n"
     ]
    }
   ],
   "source": [
    "import random\n",
    "\n",
    "def generate_list(k):\n",
    "  return [random.randrange(0, 10) for _ in range(k)]\n",
    "u = generate_list(10)\n",
    "print('Изначальный список:')\n",
    "print(u)\n",
    "print('Перевернутый список:')\n",
    "print(list(reversed(u)))"
   ]
  },
  {
   "cell_type": "markdown",
   "metadata": {},
   "source": [
    "## Задание 2"
   ]
  },
  {
   "cell_type": "code",
   "execution_count": 3,
   "metadata": {},
   "outputs": [
    {
     "name": "stdout",
     "output_type": "stream",
     "text": [
      "Первый список: [29, 29, 35, 48, 37, 87, 78, 89, 55, 42]\n",
      "Второй список: [85, 95, 32, 14, 51, 23, 40, 98, 24, 1]\n",
      "Третий список: [29, 35, 37, 78, 55, 95, 14, 23, 98, 1]\n"
     ]
    }
   ],
   "source": [
    "import random\n",
    "\n",
    "n = 10 \n",
    "list1 = [random.randint(0, 100) for _ in range(n)]\n",
    "list2 = [random.randint(0, 100) for _ in range(n)]\n",
    "\n",
    "print(\"Первый список:\", list1)\n",
    "print(\"Второй список:\", list2)\n",
    "\n",
    "list3 = []\n",
    "\n",
    "for i in range(len(list1)):\n",
    "    if i % 2 == 0:\n",
    "        list3.append(list1[i])\n",
    "\n",
    "for i in range(len(list2)):\n",
    "    if i % 2 != 0:\n",
    "        list3.append(list2[i])\n",
    "\n",
    "print(\"Третий список:\", list3)"
   ]
  },
  {
   "cell_type": "markdown",
   "metadata": {},
   "source": [
    "## Задание 3"
   ]
  },
  {
   "cell_type": "code",
   "execution_count": 4,
   "metadata": {},
   "outputs": [
    {
     "name": "stdout",
     "output_type": "stream",
     "text": [
      "Исходный список: ['two', 'two', 'one', 'table', 'one', 'button', 'two', 'table', 'two', 'one']\n",
      "Список без дубликатов: ['two', 'button', 'table', 'one']\n"
     ]
    }
   ],
   "source": [
    "import random\n",
    "\n",
    "def generate_random_list(size):\n",
    "    elements = []\n",
    "    for _ in range(size):\n",
    "        choice = random.choice(['stroka', 'slovo', 'random'])\n",
    "        if choice == 'int':\n",
    "            elements.append(random.randint(1, 100))\n",
    "        elif choice == 'float':\n",
    "            elements.append(round(random.uniform(1, 100), 2))\n",
    "        else:\n",
    "            elements.append(random.choice(['one', 'two', 'table', 'button']))\n",
    "    return elements\n",
    "\n",
    "size = 10\n",
    "random_list = generate_random_list(size)\n",
    "\n",
    "print(\"Исходный список:\", random_list)\n",
    "\n",
    "unique_elements = list(set(map(str, random_list)))\n",
    "\n",
    "print(\"Список без дубликатов:\", unique_elements)"
   ]
  },
  {
   "cell_type": "markdown",
   "metadata": {},
   "source": [
    "## Задание 4"
   ]
  },
  {
   "cell_type": "code",
   "execution_count": 7,
   "metadata": {},
   "outputs": [
    {
     "name": "stdout",
     "output_type": "stream",
     "text": [
      "Исходный словарь: {'key_83': 5.96, 'key_2': 20, 'key_62': 82.21, 'key_49': 93.82, 'key_82': 67, 'key_56': 44.2, 'key_16': 93, 'key_4': 78, 'key_86': 55, 'key_42': 28}\n",
      "Список кортежей (значение, список ключей): [(5.96, ['key_83']), (20, ['key_2']), (82.21, ['key_62']), (93.82, ['key_49']), (67, ['key_82']), (44.2, ['key_56']), (93, ['key_16']), (78, ['key_4']), (55, ['key_86']), (28, ['key_42'])]\n"
     ]
    }
   ],
   "source": [
    "import random\n",
    "\n",
    "def generate_random_dict(size):\n",
    "    unique_keys = set()\n",
    "    random_dict = {}\n",
    "\n",
    "    while len(random_dict) < size:\n",
    "        key = f'key_{random.randint(1, 100)}'\n",
    "        if key not in unique_keys:\n",
    "            unique_keys.add(key)\n",
    "            value = random.choice([random.randint(1, 100), round(random.uniform(1, 100), 2)])\n",
    "            random_dict[key] = value\n",
    "\n",
    "    return random_dict\n",
    "\n",
    "size = 10\n",
    "random_dict = generate_random_dict(size)\n",
    "\n",
    "for key in random_dict:\n",
    "\n",
    "    if '.' in str(random_dict[key]):\n",
    "        random_dict[key] = float(random_dict[key])\n",
    "    else:\n",
    "        random_dict[key] = int(random_dict[key])\n",
    "\n",
    "print(\"Исходный словарь:\", random_dict)\n",
    "\n",
    "value_to_keys = {}\n",
    "\n",
    "for key, value in random_dict.items():\n",
    "    if value not in value_to_keys:\n",
    "        value_to_keys[value] = []\n",
    "    value_to_keys[value].append(key)\n",
    "\n",
    "result_list = [(value, keys) for value, keys in value_to_keys.items()]\n",
    "\n",
    "print(\"Список кортежей (значение, список ключей):\", result_list)"
   ]
  },
  {
   "cell_type": "markdown",
   "metadata": {},
   "source": [
    "## Задание 5"
   ]
  },
  {
   "cell_type": "code",
   "execution_count": null,
   "metadata": {},
   "outputs": [
    {
     "name": "stdout",
     "output_type": "stream",
     "text": [
      "Первый словарь: {'1': '1', '2': '2', '3': '3', '4': '45', '5': '67'}\n",
      "Второй словарь: {'1': '1', '2': '2', '3': '3', '4': '48', '5': '96'}\n",
      "Новый словарь с пересечениями значений: {'1': '1', '2': '2', '3': '3'}\n"
     ]
    }
   ],
   "source": [
    "import random\n",
    "\n",
    "dct1 = {}\n",
    "for i in range(5):\n",
    "    key = str(i+1)\n",
    "    value = input(\"Введите значение для строки первого словаря\")\n",
    "    dct1[key] = value\n",
    "\n",
    "dct2 = {}\n",
    "for i in range(5): \n",
    "    key = str(i+1)\n",
    "    value = input(\"Введите значение для строки второго словаря\")\n",
    "    dct2[key] = value\n",
    "\n",
    "print(\"Первый словарь:\", dct1)\n",
    "print(\"Второй словарь:\", dct2)\n",
    "\n",
    "values1 = set(dct1.values())\n",
    "values2 = set(dct2.values())\n",
    "intersection = values1.intersection(values2)\n",
    "\n",
    "nd = {k: v for k, v in dct1.items() if v in intersection}\n",
    "\n",
    "print(\"Новый словарь с пересечениями значений:\", nd)"
   ]
  }
 ],
 "metadata": {
  "kernelspec": {
   "display_name": "Python 3",
   "language": "python",
   "name": "python3"
  },
  "language_info": {
   "codemirror_mode": {
    "name": "ipython",
    "version": 3
   },
   "file_extension": ".py",
   "mimetype": "text/x-python",
   "name": "python",
   "nbconvert_exporter": "python",
   "pygments_lexer": "ipython3",
   "version": "3.11.7"
  }
 },
 "nbformat": 4,
 "nbformat_minor": 2
}
